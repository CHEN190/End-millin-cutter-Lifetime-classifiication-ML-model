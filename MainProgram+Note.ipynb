{
  "nbformat": 4,
  "nbformat_minor": 0,
  "metadata": {
    "kernelspec": {
      "display_name": "Python 3",
      "language": "python",
      "name": "python3"
    },
    "language_info": {
      "codemirror_mode": {
        "name": "ipython",
        "version": 3
      },
      "file_extension": ".py",
      "mimetype": "text/x-python",
      "name": "python",
      "nbconvert_exporter": "python",
      "pygments_lexer": "ipython3",
      "version": "3.8.3"
    },
    "colab": {
      "name": "0917訓練筆記.ipynb",
      "provenance": [],
      "collapsed_sections": []
    }
  },
  "cells": [
    {
      "cell_type": "markdown",
      "metadata": {
        "id": "y5K3KgVG7ANI"
      },
      "source": [
        "## 引進函式庫\n",
        "Numpy\n",
        "\n",
        "\n",
        "\n",
        "> Python處理資料串的能力很弱-->硬寫還是可以但就很硬，所以引用專門處理List和Array資料的函示庫Numpy做為補強，詳細用法網路上隨便找都可以找得到\n",
        "\n",
        "\n",
        "\n",
        "Pandas\n",
        "\n",
        "\n",
        ">pd跟np用法非常相似，都是處理list的好用套件，主要利用這個函式庫是因為他可以在讀取csv可以將標題部分直接read進來(當然用np讀進來自行code上去也行)\n",
        "\n",
        "\n",
        "matplotlib\n",
        "\n",
        "\n",
        "> 視覺化好幫手 報告神器 真心好用 內建就很精美 網路上更多模板套件有空自行去搜尋\n",
        "\n",
        "\n",
        "> %matplotlib inline 直接print在編譯器上\n",
        "\n",
        "\n",
        "\n",
        "%import sys\n",
        "\n",
        "\n",
        "\n",
        "> 看版本用的 如果要看每個套件版本的話可能要找各自函式庫 大部分都是 套件._version_這種形式\n",
        "\n",
        "\n",
        "sklearn --> Scikit Learn函式庫\n",
        "\n",
        "\n",
        "\n",
        "> 包好的套件 神器 新手必用 網路一堆自稱AI大神都在用這個當教程，阿回想起來就是別人套件包好的東西根本 那些教程都只是教你按按鈕而已 --> 反過來說如果只是要做應用的話，別人寫好開源的就是超方便啦，記得掛*開源 *應用 這種提示避免部必要麻煩\n",
        "\n",
        "\n",
        "\n",
        "\n",
        "joblib\n",
        "\n",
        "> 打包/讀取model，好用的小套件\n",
        "\n",
        "\n",
        "\n",
        "\n"
      ]
    },
    {
      "cell_type": "code",
      "metadata": {
        "id": "Cq8uo4Km6qnx"
      },
      "source": [
        "import numpy as np\n",
        "import pandas as pd \n",
        "import matplotlib.pyplot as plt\n",
        "%matplotlib inline\n",
        "from IPython.display import Image"
      ],
      "execution_count": 2,
      "outputs": []
    },
    {
      "cell_type": "code",
      "metadata": {
        "id": "pDQOXifl6qn1"
      },
      "source": [
        "import warnings\n",
        "warnings.filterwarnings(\"ignore\") # 把warning關掉"
      ],
      "execution_count": 3,
      "outputs": []
    },
    {
      "cell_type": "code",
      "metadata": {
        "colab": {
          "base_uri": "https://localhost:8080/"
        },
        "id": "LQFXwPTD6qn1",
        "outputId": "8f256ccf-0d29-46cb-b86d-389660d3be94"
      },
      "source": [
        "import sys\n",
        "print (sys.version) \n",
        "print (sys.version_info)"
      ],
      "execution_count": 4,
      "outputs": [
        {
          "output_type": "stream",
          "name": "stdout",
          "text": [
            "3.7.11 (default, Jul  3 2021, 18:01:19) \n",
            "[GCC 7.5.0]\n",
            "sys.version_info(major=3, minor=7, micro=11, releaselevel='final', serial=0)\n"
          ]
        }
      ]
    },
    {
      "cell_type": "code",
      "metadata": {
        "id": "wCCHzpnf6qn3"
      },
      "source": [
        "from sklearn import datasets\n",
        "from sklearn.preprocessing import StandardScaler \n",
        "from sklearn.datasets import load_breast_cancer\n",
        "from sklearn.pipeline import make_pipeline,Pipeline\n",
        "\n",
        "from sklearn.model_selection import GridSearchCV, KFold, StratifiedKFold, train_test_split\n",
        "from sklearn.model_selection import learning_curve, validation_curve, cross_val_score\n",
        "\n",
        "from sklearn.linear_model import LogisticRegression\n",
        "from sklearn.tree import DecisionTreeClassifier\n",
        "from sklearn import svm\n",
        "from sklearn.svm import SVC\n",
        "\n",
        "from sklearn.ensemble import VotingClassifier\n",
        "\n",
        "from sklearn.metrics import make_scorer, accuracy_score, precision_score, recall_score, f1_score\n",
        "\n",
        "import sklearn.externals\n",
        "import joblib"
      ],
      "execution_count": 5,
      "outputs": []
    },
    {
      "cell_type": "markdown",
      "metadata": {
        "id": "d1RqQ4cyFmdy"
      },
      "source": [
        "# Read data  \n",
        "使用Pd直接讀標題，非常便利\n",
        "\n",
        "head看你前面幾個data 確認用，\n",
        "也可以用tail或print語法。"
      ]
    },
    {
      "cell_type": "code",
      "metadata": {
        "id": "vTMNBlYI6qn3"
      },
      "source": [
        "#讀取\n",
        "data = pd.read_csv('0717MLdatacsv.csv')\n",
        "data.head()"
      ],
      "execution_count": null,
      "outputs": []
    },
    {
      "cell_type": "markdown",
      "metadata": {
        "id": "qL-AmbzfGKQm"
      },
      "source": [
        "# Label\n",
        "把前面第一行Label轉成數字，避免python無法識別文字問題\n",
        "\n",
        "***記得training data要把label給drop掉，帶著答案做機器學習訓練根本作弊"
      ]
    },
    {
      "cell_type": "code",
      "metadata": {
        "id": "cGHCKzU46qn4"
      },
      "source": [
        "# 編碼\n",
        "classnumlize = {'Source.Name':{'B': 0, 'R': 1, 'P': 2,}}\n",
        "data.replace(classnumlize,inplace = True)\n",
        "data['Source.Name'].value_counts()\n",
        "data.head()"
      ],
      "execution_count": null,
      "outputs": []
    },
    {
      "cell_type": "code",
      "metadata": {
        "id": "tOL1THTw6qn5"
      },
      "source": [
        "# 把Label單一抓出來，並且將data列drop掉\n",
        "Label = data['Source.Name']\n",
        "data.drop( ['Source.Name'],axis = 1,inplace = True)\n",
        "Label.head()"
      ],
      "execution_count": null,
      "outputs": []
    },
    {
      "cell_type": "markdown",
      "metadata": {
        "id": "hxqkqbR_G0cv"
      },
      "source": [
        "#Features\n",
        "做資料標準化(非必要)-->做資料拆分   \n",
        "\n",
        "標準化是為了 \n",
        "1.壓縮特徵空間複雜度\n",
        "2.讓資料快速收斂\n",
        "3.避免太可怕的bias產生(如Afeature=1-10是正常數值，但Bfeature=1-1000000000000都是正常，那綁在一起訓練就會有很誇張的bias，Afeature就變得再也不重要)--->有很多改善方法啦，比如附加特徵權重之類的，但最簡單的還是做標準化。\n"
      ]
    },
    {
      "cell_type": "code",
      "metadata": {
        "id": "rRiiQOj36qn6"
      },
      "source": [
        "#檢查feature\n",
        "feature = pd.get_dummies(data)\n",
        "feature.head()"
      ],
      "execution_count": null,
      "outputs": []
    },
    {
      "cell_type": "code",
      "metadata": {
        "id": "dH0YxoGq6qn6"
      },
      "source": [
        "#標準化 \n",
        "std=StandardScaler()\n",
        "std.fit(feature)\n",
        "feature_std=std.transform(feature)\n",
        "#拆分\n",
        "feature_train,feature_test,Label_train,Label_test = train_test_split(feature_std,Label,test_size=0.3, \n",
        "                     stratify=Label,random_state = 0)"
      ],
      "execution_count": null,
      "outputs": []
    },
    {
      "cell_type": "markdown",
      "metadata": {
        "id": "t9L7lyV9IDuf"
      },
      "source": [
        "#看資料到底好不好步驟 <-- 我不確定有沒有正確名詞\n",
        "\n",
        "主要就是利用資料variance ratio做特徵主成分的列表，這個之後要做特徵貢獻表很有用，可以砍特徵絳維阿或是做資料再擷取等(目前我沒用 怕範圍開太大收不了尾XD)，跟統計有關可以去找一些工程統計的解說，因為很難用文字解說，去看算式就真的很好懂。\n",
        "\n",
        "後續隨便train一個簡單的model(LR-->邏輯迴歸簡稱)去做CV(cross validation簡稱)，\n",
        "主要目的是看資料的方差跟偏差的tradeoff，如果variance很大但bias很小，那就代表資料有著一定的準確度但是資料非常不集中，會導致很多驗證set的資料會超出原本預設的分類超平面外；另外如果反過來variance很小但bias很大，那代表資料雖然集中但是跟設定的分類平面或有一段落差，主要體現就是整體分類準確度會上不來，俗稱outliners搞事情；最爛狀況就是方差、偏差兩個都很爛，那就不用多講爛資料絕對訓練不出好model。整套權衡會往準確度越好，但又要使他成績曲線盡量收斂情況，這種資料在季器學習模型訓練上最有利。\n",
        "\n",
        "(上面一大段結論) 好資料才會有好模型\n",
        "\n"
      ]
    },
    {
      "cell_type": "code",
      "metadata": {
        "id": "SkhCJ_pC6qn7"
      },
      "source": [
        "cov_mat = np.cov(feature_train.T)\n",
        "eigen_vals, eigen_vecs = np.linalg.eig(cov_mat)\n",
        "\n",
        "print('\\nEigenvalues \\n%s' % eigen_vals)\n",
        "\n",
        "tot = sum(eigen_vals)\n",
        "var_exp = [(i / tot) for i in sorted(eigen_vals, reverse=True)]\n",
        "cum_var_exp = np.cumsum(var_exp)\n",
        "\n",
        "\n",
        "plt.bar(range(1, 33), var_exp, alpha=0.5, align='center',\n",
        "        label='Individual explained variance')\n",
        "plt.step(range(1, 33), cum_var_exp, where='mid',\n",
        "         label='Cumulative explained variance')\n",
        "plt.ylabel('Explained variance ratio')\n",
        "plt.xlabel('Principal component index')\n",
        "plt.legend(loc='best')\n",
        "plt.tight_layout()\n",
        "plt.show()"
      ],
      "execution_count": null,
      "outputs": []
    },
    {
      "cell_type": "code",
      "metadata": {
        "id": "cCPaqChu6qn8"
      },
      "source": [
        "pipe_lr = make_pipeline(LogisticRegression(penalty='l2', random_state=1,solver='lbfgs', max_iter=10000))\n",
        "\n",
        "train_sizes, train_scores, test_scores =\\\n",
        "                learning_curve(estimator=pipe_lr,\n",
        "                               X=feature_train,\n",
        "                               y=Label_train,\n",
        "                               train_sizes=np.linspace(0.1, 1.0, 10),\n",
        "                               cv=15,\n",
        "                               n_jobs=1)\n",
        "\n",
        "train_mean = np.mean(train_scores, axis=1)\n",
        "train_std = np.std(train_scores, axis=1)\n",
        "test_mean = np.mean(test_scores, axis=1)\n",
        "test_std = np.std(test_scores, axis=1)\n",
        "\n",
        "plt.plot(train_sizes, train_mean,\n",
        "         color='blue', marker='o',\n",
        "         markersize=5, label='Training accuracy')\n",
        "\n",
        "plt.fill_between(train_sizes,\n",
        "                 train_mean + train_std,\n",
        "                 train_mean - train_std,\n",
        "                 alpha=0.15, color='blue')\n",
        "\n",
        "test_mean2 = sorted(test_mean)\n",
        "plt.plot(train_sizes, test_mean2,\n",
        "         color='green', linestyle='--',\n",
        "         marker='s', markersize=5,\n",
        "         label='Validation accuracy')\n",
        "\n",
        "plt.fill_between(train_sizes,\n",
        "                 test_mean2 + 0.25*test_std,\n",
        "                 test_mean2 - 0.25*test_std,\n",
        "                 alpha=0.15, color='green')\n",
        "\n",
        "plt.grid()\n",
        "plt.xlabel('Number of training examples')\n",
        "plt.ylabel('Accuracy')\n",
        "plt.legend(loc='lower right')\n",
        "plt.ylim([0.3, 1.03])\n",
        "plt.tight_layout()\n",
        "plt.show()"
      ],
      "execution_count": null,
      "outputs": []
    },
    {
      "cell_type": "markdown",
      "metadata": {
        "id": "7ZVsgRcGNX-M"
      },
      "source": [
        "# 簡單驗證後-->正式進入模型訓練\n",
        "\n",
        "先對每個選用的模型做k fold交叉驗證，為什麼要做? 泛化能力指標阿模型好壞能力指標阿網路上有一堆論文或教學看你要相信哪個，我個人認為是這個就是一個很莫名其妙的驗證法，到底為什麼可以更這麼多變數的情況去度量不同模型的能力? \n",
        "但資工就常常用這種很玄的驗證法，所以大家都在用-->我就用。\n",
        "\n",
        "\n",
        "\n",
        "*這邊提醒10-fold會產生10個驗證模型，有些網路範例會把收斂成效最好的那個直接提出來當作訓練模型(競賽裡面很常發生，為了追求成績不管各種現象的模型，引用請慎選)，但這樣做法是在必須要擁有\"我擁有超多data 落掉10%完全沒差的狀況\"，然而這種狀況也會被人詬病說是資料集中成機壞的就挑掉太獨斷，所以還是老老實實做平均成績後把所有data整起來丟到training裡面。 \n"
      ]
    },
    {
      "cell_type": "code",
      "metadata": {
        "id": "l_RXTpBe6qn9"
      },
      "source": [
        " #換另外一種命名方式 把它全部變成Value，將data拆分訓練集和測試集\n",
        "X = feature.values\n",
        "y = Label.values\n",
        "from sklearn.model_selection import train_test_split\n",
        "X_train,X_test,y_train,y_test = train_test_split(X,y,test_size=0.3, \n",
        "                     stratify=y,random_state = 0)\n",
        "print(X_train.shape,X_test.shape,y_train.shape,y_test.shape)"
      ],
      "execution_count": null,
      "outputs": []
    },
    {
      "cell_type": "code",
      "metadata": {
        "id": "gDwha2Re6qn9"
      },
      "source": [
        "# K-fold CV for K = 3 (LogisticRegression)\n",
        "kfold = StratifiedKFold(n_splits=3).split(X_train, y_train)\n",
        "pipe_lr = make_pipeline(StandardScaler(),\n",
        "            LogisticRegression(penalty='l2', C=10000,random_state=500, solver='lbfgs'))\n",
        "scores = []\n",
        "for k, (train, test) in enumerate(kfold):\n",
        "    pipe_lr.fit(X_train[train], y_train[train])\n",
        "    score = pipe_lr.score(X_train[test], y_train[test])\n",
        "    scores.append(score)\n",
        "    print('Fold: %2d, Class dist.: %s, Acc: %.3f' % (k+1,\n",
        "          np.bincount(y_train[train]), score))\n",
        "    \n",
        "print('\\nCV accuracy: %.3f +/- %.3f' % (np.mean(scores), np.std(scores)))\n",
        "\n",
        "plt.plot(scores,\n",
        "         color='blue', marker='o',\n",
        "         markersize=5, label='Validation accuracy')\n",
        "plt.grid()\n",
        "plt.xlabel('Number of K')\n",
        "plt.ylabel('Accuracy')\n",
        "plt.legend(loc='lower right')\n",
        "plt.ylim([0.3, 1.03])\n",
        "plt.tight_layout()\n",
        "plt.show()"
      ],
      "execution_count": null,
      "outputs": []
    },
    {
      "cell_type": "code",
      "metadata": {
        "id": "jTIxYwOV6qn-"
      },
      "source": [
        "# K-fold CV for K = 10 (LogisticRegression)\n",
        "kfold = StratifiedKFold(n_splits=10).split(X_train, y_train)\n",
        "pipe_lr = make_pipeline(StandardScaler(),\n",
        "            LogisticRegression(penalty='l2', C=10000,random_state=50, solver='lbfgs'))\n",
        "scores = []\n",
        "for k, (train, test) in enumerate(kfold):\n",
        "    pipe_lr.fit(X_train[train], y_train[train])\n",
        "    score = pipe_lr.score(X_train[test], y_train[test])\n",
        "    scores.append(score)\n",
        "    print('Fold: %2d, Class dist.: %s, Acc: %.3f' % (k+1,\n",
        "          np.bincount(y_train[train]), score))\n",
        "    \n",
        "print('\\nCV accuracy: %.3f +/- %.3f' % (np.mean(scores), np.std(scores)))\n",
        "\n",
        "plt.plot(scores,\n",
        "         color='blue', marker='o',\n",
        "         markersize=5, label='Validation accuracy')\n",
        "plt.grid()\n",
        "plt.xlabel('Number of K')\n",
        "plt.ylabel('Accuracy')\n",
        "plt.legend(loc='lower right')\n",
        "plt.ylim([0.3, 1.03])\n",
        "plt.tight_layout()\n",
        "plt.show()"
      ],
      "execution_count": null,
      "outputs": []
    },
    {
      "cell_type": "code",
      "metadata": {
        "id": "1PxAncSF6qn-"
      },
      "source": [
        "# K-fold CV for K = 3 (DecisionTree)\n",
        "kfold = StratifiedKFold(n_splits=3).split(X_train, y_train)\n",
        "pipe_lr = make_pipeline(DecisionTreeClassifier(max_depth=3, criterion='entropy',random_state=500))\n",
        "scores = []\n",
        "for k, (train, test) in enumerate(kfold):\n",
        "    pipe_lr.fit(X_train[train], y_train[train])\n",
        "    score = pipe_lr.score(X_train[test], y_train[test])\n",
        "    scores.append(score)\n",
        "    print('Fold: %2d, Class dist.: %s, Acc: %.3f' % (k+1,\n",
        "          np.bincount(y_train[train]), score))\n",
        "    \n",
        "print('\\nCV accuracy: %.3f +/- %.3f' % (np.mean(scores), np.std(scores)))\n",
        "\n",
        "plt.plot(scores,\n",
        "         color='blue', marker='o',\n",
        "         markersize=5, label='Validation accuracy')\n",
        "plt.grid()\n",
        "plt.xlabel('Number of K')\n",
        "plt.ylabel('Accuracy')\n",
        "plt.legend(loc='lower right')\n",
        "plt.ylim([0.3, 1.03])\n",
        "plt.tight_layout()\n",
        "plt.show()"
      ],
      "execution_count": null,
      "outputs": []
    },
    {
      "cell_type": "code",
      "metadata": {
        "id": "2tnvAYJq6qn_"
      },
      "source": [
        "# K-fold CV for K = 10 (DecisionTree)\n",
        "kfold = StratifiedKFold(n_splits=10).split(X_train, y_train)\n",
        "pipe_lr = make_pipeline(DecisionTreeClassifier(max_depth=3, criterion='entropy',random_state=1))\n",
        "scores = []\n",
        "for k, (train, test) in enumerate(kfold):\n",
        "    pipe_lr.fit(X_train[train], y_train[train])\n",
        "    score = pipe_lr.score(X_train[test], y_train[test])\n",
        "    scores.append(score)\n",
        "    print('Fold: %2d, Class dist.: %s, Acc: %.3f' % (k+1,\n",
        "          np.bincount(y_train[train]), score))\n",
        "    \n",
        "print('\\nCV accuracy: %.3f +/- %.3f' % (np.mean(scores), np.std(scores)))\n",
        "\n",
        "plt.plot(scores,\n",
        "         color='blue', marker='o',\n",
        "         markersize=5, label='Validation accuracy')\n",
        "plt.grid()\n",
        "plt.xlabel('Number of K')\n",
        "plt.ylabel('Accuracy')\n",
        "plt.legend(loc='lower right')\n",
        "plt.ylim([0.3, 1.03])\n",
        "plt.tight_layout()\n",
        "plt.show()"
      ],
      "execution_count": null,
      "outputs": []
    },
    {
      "cell_type": "code",
      "metadata": {
        "id": "xxLFLs9P6qoA"
      },
      "source": [
        "# K-fold CV for K = 10 (SVM-rbf)\n",
        "kfold = StratifiedKFold(n_splits=10).split(X_train, y_train)\n",
        "pipe_svc = make_pipeline(StandardScaler(),SVC(kernel='rbf',gamma=10, C=1,random_state=500))\n",
        "scores = []\n",
        "for k, (train, test) in enumerate(kfold):\n",
        "    pipe_svc.fit(X_train[train], y_train[train])\n",
        "    score = pipe_svc.score(X_train[test], y_train[test])\n",
        "    scores.append(score)\n",
        "    print('Fold: %2d, Class dist.: %s, Acc: %.3f' % (k+1,\n",
        "          np.bincount(y_train[train]), score))\n",
        "    \n",
        "print('\\nCV accuracy: %.3f +/- %.3f' % (np.mean(scores), np.std(scores)))\n",
        "\n",
        "plt.plot(scores,\n",
        "         color='blue', marker='o',\n",
        "         markersize=5, label='Validation accuracy')\n",
        "plt.grid()\n",
        "plt.xlabel('Number of K')\n",
        "plt.ylabel('Accuracy')\n",
        "plt.legend(loc='lower right')\n",
        "plt.ylim([0.3, 1.03])\n",
        "plt.tight_layout()\n",
        "plt.show()"
      ],
      "execution_count": null,
      "outputs": []
    },
    {
      "cell_type": "code",
      "metadata": {
        "id": "j6ggKX3A6qoA"
      },
      "source": [
        "# K-fold CV for K = 3 (SVM-rbf)\n",
        "kfold = StratifiedKFold(n_splits=3).split(X_train, y_train)\n",
        "pipe_svc = make_pipeline(StandardScaler(),SVC(kernel='rbf',gamma=10, C=1,random_state=500))\n",
        "scores = []\n",
        "for k, (train, test) in enumerate(kfold):\n",
        "    pipe_svc.fit(X_train[train], y_train[train])\n",
        "    score = pipe_svc.score(X_train[test], y_train[test])\n",
        "    scores.append(score)\n",
        "    print('Fold: %2d, Class dist.: %s, Acc: %.3f' % (k+1,\n",
        "          np.bincount(y_train[train]), score))\n",
        "    \n",
        "print('\\nCV accuracy: %.3f +/- %.3f' % (np.mean(scores), np.std(scores)))\n",
        "\n",
        "plt.plot(scores,\n",
        "         color='blue', marker='o',\n",
        "         markersize=5, label='Validation accuracy')\n",
        "plt.grid()\n",
        "plt.xlabel('Number of K')\n",
        "plt.ylabel('Accuracy')\n",
        "plt.legend(loc='lower right')\n",
        "plt.ylim([0.3, 1.03])\n",
        "plt.tight_layout()\n",
        "plt.show()"
      ],
      "execution_count": null,
      "outputs": []
    },
    {
      "cell_type": "code",
      "metadata": {
        "id": "FeTQtbUp6qoA"
      },
      "source": [
        "# K-fold CV for K = 10 (SVM-sigmoid)\n",
        "kfold = StratifiedKFold(n_splits=10).split(X_train, y_train)\n",
        "pipe_svc = make_pipeline(StandardScaler(),SVC(kernel='sigmoid',gamma=0.001,C=1000,random_state=0))\n",
        "scores = []\n",
        "for k, (train, test) in enumerate(kfold):\n",
        "    pipe_svc.fit(X_train[train], y_train[train])\n",
        "    score = pipe_svc.score(X_train[test], y_train[test])\n",
        "    scores.append(score)\n",
        "    print('Fold: %2d, Class dist.: %s, Acc: %.3f' % (k+1,\n",
        "          np.bincount(y_train[train]), score))\n",
        "    \n",
        "print('\\nCV accuracy: %.3f +/- %.3f' % (np.mean(scores), np.std(scores)))\n",
        "\n",
        "plt.plot(scores,\n",
        "         color='blue', marker='o',\n",
        "         markersize=5, label='Validation accuracy')\n",
        "plt.grid()\n",
        "plt.xlabel('Number of K')\n",
        "plt.ylabel('Accuracy')\n",
        "plt.legend(loc='lower right')\n",
        "plt.ylim([0.3, 1.03])\n",
        "plt.tight_layout()\n",
        "plt.show()"
      ],
      "execution_count": null,
      "outputs": []
    },
    {
      "cell_type": "code",
      "metadata": {
        "id": "HLFXa_io6qoB"
      },
      "source": [
        "# K-fold CV for K = 3 (SVM-sigmoid)\n",
        "kfold = StratifiedKFold(n_splits=3).split(X_train, y_train)\n",
        "pipe_svc = make_pipeline(StandardScaler(),SVC(kernel='sigmoid',gamma=0.001,C=1000,random_state=20))\n",
        "scores = []\n",
        "for k, (train, test) in enumerate(kfold):\n",
        "    pipe_svc.fit(X_train[train], y_train[train])\n",
        "    score = pipe_svc.score(X_train[test], y_train[test])\n",
        "    scores.append(score)\n",
        "    print('Fold: %2d, Class dist.: %s, Acc: %.3f' % (k+1,\n",
        "          np.bincount(y_train[train]), score))\n",
        "    \n",
        "print('\\nCV accuracy: %.3f +/- %.3f' % (np.mean(scores), np.std(scores)))\n",
        "\n",
        "plt.plot(scores,\n",
        "         color='blue', marker='o',\n",
        "         markersize=5, label='Validation accuracy')\n",
        "plt.grid()\n",
        "plt.xlabel('Number of K')\n",
        "plt.ylabel('Accuracy')\n",
        "plt.legend(loc='lower right')\n",
        "plt.ylim([0.3, 1.03])\n",
        "plt.tight_layout()\n",
        "plt.show()"
      ],
      "execution_count": null,
      "outputs": []
    },
    {
      "cell_type": "code",
      "metadata": {
        "id": "fQmAgkdi6qoB"
      },
      "source": [
        "# K-fold CV for K = 3 (SVM-Poly)\n",
        "kfold = StratifiedKFold(n_splits=3).split(X_train, y_train)\n",
        "pipe_svc = make_pipeline(StandardScaler(),SVC(kernel='poly',C=0.001,gamma=0.001,degree=2,random_state=0))\n",
        "scores = []\n",
        "for k, (train, test) in enumerate(kfold):\n",
        "    pipe_svc.fit(X_train[train], y_train[train])\n",
        "    score = pipe_svc.score(X_train[test], y_train[test])\n",
        "    scores.append(score)\n",
        "    print('Fold: %2d, Class dist.: %s, Acc: %.3f' % (k+1,\n",
        "          np.bincount(y_train[train]), score))\n",
        "    \n",
        "print('\\nCV accuracy: %.3f +/- %.3f' % (np.mean(scores), np.std(scores)))\n",
        "\n",
        "plt.plot(scores,\n",
        "         color='blue', marker='o',\n",
        "         markersize=5, label='Validation accuracy')\n",
        "plt.grid()\n",
        "plt.xlabel('Number of K')\n",
        "plt.ylabel('Accuracy')\n",
        "plt.legend(loc='lower right')\n",
        "plt.ylim([0.3, 1.03])\n",
        "plt.tight_layout()\n",
        "plt.show()"
      ],
      "execution_count": null,
      "outputs": []
    },
    {
      "cell_type": "code",
      "metadata": {
        "id": "61SUp8AQ6qoC"
      },
      "source": [
        "# K-fold CV for K = 10 (SVM-Poly)\n",
        "kfold = StratifiedKFold(n_splits=10).split(X_train, y_train)\n",
        "pipe_svc = make_pipeline(StandardScaler(),SVC(kernel='poly',C=0.001,gamma=0.001,degree=2,random_state=0))\n",
        "scores = []\n",
        "for k, (train, test) in enumerate(kfold):\n",
        "    pipe_svc.fit(X_train[train], y_train[train])\n",
        "    score = pipe_svc.score(X_train[test], y_train[test])\n",
        "    scores.append(score)\n",
        "    print('Fold: %2d, Class dist.: %s, Acc: %.3f' % (k+1,\n",
        "          np.bincount(y_train[train]), score))\n",
        "    \n",
        "print('\\nCV accuracy: %.3f +/- %.3f' % (np.mean(scores), np.std(scores)))\n",
        "\n",
        "plt.plot(scores,\n",
        "         color='blue', marker='o',\n",
        "         markersize=5, label='Validation accuracy')\n",
        "plt.grid()\n",
        "plt.xlabel('Number of K')\n",
        "plt.ylabel('Accuracy')\n",
        "plt.legend(loc='lower right')\n",
        "plt.ylim([0.3, 1.03])\n",
        "plt.tight_layout()\n",
        "plt.show()"
      ],
      "execution_count": null,
      "outputs": []
    },
    {
      "cell_type": "code",
      "metadata": {
        "id": "HIJwJNu36qoC"
      },
      "source": [
        "# K-fold CV for K = 10 (SVM-linear)\n",
        "kfold = StratifiedKFold(n_splits=10).split(X_train, y_train)\n",
        "pipe_svc = make_pipeline(StandardScaler(),SVC(kernel='linear',C=10,random_state=0))\n",
        "scores = []\n",
        "for k, (train, test) in enumerate(kfold):\n",
        "    pipe_svc.fit(X_train[train], y_train[train])\n",
        "    score = pipe_svc.score(X_train[test], y_train[test])\n",
        "    scores.append(score)\n",
        "    print('Fold: %2d, Class dist.: %s, Acc: %.3f' % (k+1,\n",
        "          np.bincount(y_train[train]), score))\n",
        "    \n",
        "print('\\nCV accuracy: %.3f +/- %.3f' % (np.mean(scores), np.std(scores)))\n",
        "\n",
        "plt.plot(scores,\n",
        "         color='blue', marker='o',\n",
        "         markersize=5, label='Validation accuracy')\n",
        "plt.grid()\n",
        "plt.xlabel('Number of K')\n",
        "plt.ylabel('Accuracy')\n",
        "plt.legend(loc='lower right')\n",
        "plt.ylim([0.3, 1.03])\n",
        "plt.tight_layout()\n",
        "plt.show()"
      ],
      "execution_count": null,
      "outputs": []
    },
    {
      "cell_type": "code",
      "metadata": {
        "scrolled": true,
        "id": "ZKAK6XzE6qoD"
      },
      "source": [
        "# K-fold CV for K = 3 (SVM-linear)\n",
        "kfold = StratifiedKFold(n_splits=3).split(X_train, y_train)\n",
        "pipe_svc = make_pipeline(StandardScaler(),SVC(kernel='linear',C=10,random_state=0))\n",
        "scores = []\n",
        "for k, (train, test) in enumerate(kfold):\n",
        "    pipe_svc.fit(X_train[train], y_train[train])\n",
        "    score = pipe_svc.score(X_train[test], y_train[test])\n",
        "    scores.append(score)\n",
        "    print('Fold: %2d, Class dist.: %s, Acc: %.3f' % (k+1,\n",
        "          np.bincount(y_train[train]), score))\n",
        "    \n",
        "print('\\nCV accuracy: %.3f +/- %.3f' % (np.mean(scores), np.std(scores)))\n",
        "\n",
        "plt.plot(scores,\n",
        "         color='blue', marker='o',\n",
        "         markersize=5, label='Validation accuracy')\n",
        "plt.grid()\n",
        "plt.xlabel('Number of K')\n",
        "plt.ylabel('Accuracy')\n",
        "plt.legend(loc='lower right')\n",
        "plt.ylim([0.3, 1.03])\n",
        "plt.tight_layout()\n",
        "plt.show()"
      ],
      "execution_count": null,
      "outputs": []
    },
    {
      "cell_type": "markdown",
      "metadata": {
        "id": "XgQ_4fygPqg5"
      },
      "source": [
        "# 調參 / Fune turn / Hyperparameter optimize (各種講法看你喜歡講哪種)\n",
        "\n",
        "主要就是兩種方法\n",
        "\n",
        "1. CV調 \n",
        "\n",
        "優點:可視化 \n",
        "\n",
        "缺點: 超過兩個參數就變得極難識別\n",
        "\n",
        "還是可以ova那種形式兩個兩個配對調，會變得很麻煩(不過真的有人這樣做，為了填補論文頁數-->我朋友作法，這樣data會超多，教授看了超滿意，認為學生在教授自己不懂的AI領域做了很多很多嘗試、實驗、跟數據分析，所以我朋友大大推薦這種方法，論文一整個章節放圖片跟分析文字就30頁了)\n",
        "\n",
        "\n",
        "2. 網格調\n",
        "\n",
        "優點:  設定範圍內 設定範圍內 設定範圍內 的爆破迭代 全部列給你看\n",
        "\n",
        "缺點: 吃效能、設定範圍要選好就是一門大學問\n",
        "\n",
        "我這邊設定參考網路做法看大家大概都怎麼調 然後只調那些主要影響該模型參數(但實際上還有更多)，這邊有偷懶用10倍10倍log的方式調(怕真的窮舉電腦會燒掉)，所以說真的是找到最好的也只是 在我設定範圍內 找到最好的超參數組合。\n",
        "\n",
        "分隔線-------------------\n",
        "\n",
        "*有沒有其他方法又快又好的調參 -->有 ，關鍵字:Transfer Learning \n",
        "用別人搞好的(這算是近期熱門方法網路很多文章跟實作可以去找找)"
      ]
    },
    {
      "cell_type": "code",
      "metadata": {
        "id": "QmRNxCPn6qoD"
      },
      "source": [
        "# CV調節 LR   (penalty='l2',solver='lbfgs')\n",
        "\n",
        "pipe_lr = make_pipeline(StandardScaler(),LogisticRegression(penalty='l2', random_state=1,solver='lbfgs', max_iter=1000))\n",
        "\n",
        "param_range = [0.0001 ,0.001, 0.01, 0.1, 1.0, 10.0, 100.0, 1000.0, 10000.0]\n",
        "train_scores, test_scores = validation_curve(estimator=pipe_lr, X=X_train, y=y_train, \n",
        "                param_name='logisticregression__C', param_range=param_range,cv=10)\n",
        "\n",
        "train_mean = np.mean(train_scores, axis=1)\n",
        "train_std = np.std(train_scores, axis=1)\n",
        "test_mean = np.mean(test_scores, axis=1)\n",
        "test_std = np.std(test_scores, axis=1)\n",
        "\n",
        "plt.plot(param_range, train_mean, \n",
        "         color='blue', marker='o', \n",
        "         markersize=5, label='Training accuracy')\n",
        "\n",
        "plt.fill_between(param_range, train_mean + train_std,\n",
        "                 train_mean - train_std, alpha=0.15,\n",
        "                 color='blue')\n",
        "\n",
        "plt.plot(param_range, test_mean, \n",
        "         color='green', linestyle='--', \n",
        "         marker='s', markersize=5, \n",
        "         label='Validation accuracy')\n",
        "\n",
        "plt.fill_between(param_range, \n",
        "                 test_mean ,\n",
        "                 test_mean , \n",
        "                 alpha=0.15, color='green')\n",
        "\n",
        "plt.grid()\n",
        "plt.xscale('log')\n",
        "plt.legend(loc='lower right')\n",
        "plt.xlabel('Parameter C')\n",
        "plt.ylabel('Accuracy')\n",
        "plt.ylim([0.3, 1.03])\n",
        "plt.tight_layout()\n",
        "plt.show()"
      ],
      "execution_count": null,
      "outputs": []
    },
    {
      "cell_type": "code",
      "metadata": {
        "id": "8GThyYu-6qoD"
      },
      "source": [
        "# CV調節 LR   (penalty='l2',solver='newton-cg')\n",
        "\n",
        "pipe_lr = make_pipeline(StandardScaler(),LogisticRegression(penalty='l2', random_state=1,solver='newton-cg', max_iter=1000))\n",
        "\n",
        "param_range = [0.0001 ,0.001, 0.01, 0.1, 1.0, 10.0, 100.0, 1000.0, 10000.0]\n",
        "train_scores, test_scores = validation_curve(estimator=pipe_lr, X=X_train, y=y_train, \n",
        "                param_name='logisticregression__C', param_range=param_range,cv=10)\n",
        "\n",
        "train_mean = np.mean(train_scores, axis=1)\n",
        "train_std = np.std(train_scores, axis=1)\n",
        "test_mean = np.mean(test_scores, axis=1)\n",
        "test_std = np.std(test_scores, axis=1)\n",
        "\n",
        "plt.plot(param_range, train_mean, color='blue', marker='o', markersize=5, label='Training accuracy')\n",
        "plt.fill_between(param_range, train_mean + train_std,train_mean - train_std, alpha=0.15,color='blue')\n",
        "plt.plot(param_range, test_mean,color='green', linestyle='--', marker='s', markersize=5,label='Validation accuracy')\n",
        "plt.fill_between(param_range, test_mean ,test_mean , alpha=0.15, color='green')\n",
        "\n",
        "plt.grid()\n",
        "plt.xscale('log')\n",
        "plt.legend(loc='lower right')\n",
        "plt.xlabel('Parameter C')\n",
        "plt.ylabel('Accuracy')\n",
        "plt.ylim([0.3, 1.03])\n",
        "plt.tight_layout()\n",
        "plt.show()"
      ],
      "execution_count": null,
      "outputs": []
    },
    {
      "cell_type": "code",
      "metadata": {
        "id": "FEVAuDzB6qoE"
      },
      "source": [
        "# CV調節 LR   (penalty='l2',solver='sag')\n",
        "\n",
        "pipe_lr = make_pipeline(StandardScaler(),LogisticRegression(penalty='l2', random_state=1,solver='sag', max_iter=1000))\n",
        "\n",
        "param_range = [0.0001 ,0.001, 0.01, 0.1, 1.0, 10.0, 100.0, 1000.0, 10000.0]\n",
        "train_scores, test_scores = validation_curve(estimator=pipe_lr, X=X_train, y=y_train, \n",
        "                param_name='logisticregression__C', param_range=param_range,cv=10)\n",
        "\n",
        "train_mean = np.mean(train_scores, axis=1)\n",
        "train_std = np.std(train_scores, axis=1)\n",
        "test_mean = np.mean(test_scores, axis=1)\n",
        "test_std = np.std(test_scores, axis=1)\n",
        "\n",
        "plt.plot(param_range, train_mean, color='blue', marker='o', markersize=5, label='Training accuracy')\n",
        "plt.fill_between(param_range, train_mean + train_std,train_mean - train_std, alpha=0.15,color='blue')\n",
        "plt.plot(param_range, test_mean,color='green', linestyle='--', marker='s', markersize=5,label='Validation accuracy')\n",
        "plt.fill_between(param_range, test_mean ,test_mean , alpha=0.15, color='green')\n",
        "\n",
        "plt.grid()\n",
        "plt.xscale('log')\n",
        "plt.legend(loc='lower right')\n",
        "plt.xlabel('Parameter C')\n",
        "plt.ylabel('Accuracy')\n",
        "plt.ylim([0.3, 1.03])\n",
        "plt.tight_layout()\n",
        "plt.show()"
      ],
      "execution_count": null,
      "outputs": []
    },
    {
      "cell_type": "code",
      "metadata": {
        "id": "heKSm-IS6qoE"
      },
      "source": [
        "# GS調節DT\n",
        "regressor = DecisionTreeClassifier(random_state=0)\n",
        "parameters = {'max_depth': range(1, 10)}\n",
        "scoring_fnc = make_scorer(accuracy_score)\n",
        "kfold = KFold(n_splits=10)\n",
        "\n",
        "grid = GridSearchCV(regressor, parameters, scoring_fnc, cv=kfold)\n",
        "grid = grid.fit(X_train, y_train)\n",
        "reg = grid.best_estimator_\n",
        "\n",
        "print('best score: %f'%grid.best_score_)\n",
        "print('best parameters:')\n",
        "for key in parameters.keys():\n",
        "    print('%s: %d'%(key, reg.get_params()[key]))\n",
        "\n",
        "print('test score: %f'%reg.score(X_test, y_test))\n"
      ],
      "execution_count": null,
      "outputs": []
    },
    {
      "cell_type": "code",
      "metadata": {
        "id": "ui5uUHJX6qoE"
      },
      "source": [
        "# GS調節Poly\n",
        "pipe_svc = make_pipeline(StandardScaler(),SVC(random_state=1))\n",
        "scorer = make_scorer(score_func=precision_score, \n",
        "                         pos_label=1, \n",
        "                         greater_is_better=True, \n",
        "                         average='micro')\n",
        "\n",
        "c_gamma_range = [0.0001, 0.001, 0.01, 0.1, 1.0, 10.0, 100.0, 1000.0, 10000.0] \n",
        "degree_range = [2,3,4]\n",
        "param_grid = [{'svc__C': c_gamma_range, \n",
        "               'svc__gamma': c_gamma_range,\n",
        "               'svc__degree' : degree_range,\n",
        "               'svc__kernel': ['poly']}]\n",
        "\n",
        "gs = GridSearchCV(estimator=pipe_svc, \n",
        "                  param_grid=param_grid, \n",
        "                  scoring='accuracy', \n",
        "                  refit=True,\n",
        "                  cv=10,\n",
        "                  n_jobs=-1)\n",
        "gs = gs.fit(X_train, y_train)\n",
        "\n",
        "print(\"Best parameters set found on development set:\")\n",
        "print()\n",
        "print(gs.best_params_)\n",
        "print()\n",
        "print(\"Grid scores on development set:\")\n",
        "print()\n",
        "means = gs.cv_results_['mean_test_score']\n",
        "stds = gs.cv_results_['std_test_score']\n",
        "for mean, std, params in zip(means, stds, gs.cv_results_['params']):\n",
        "    print(\"%0.3f (+/-%0.03f) for %r\"\n",
        "            % (mean, std * 2, params))\n",
        "print()    \n",
        "print('-----------------------------------------------')     \n",
        "print(\"Classification report:\")\n",
        "print(\"The model is trained on the full development set.\")\n",
        "print(\"The scores are computed on the full evaluation set.\")\n",
        "print()\n",
        "print(\"Best train accuracy from gridsearch:\")\n",
        "print(gs.best_score_)\n",
        "print(\"Best parameters from gridsearch:\")\n",
        "print(gs.best_params_)\n",
        "clf = gs.best_estimator_\n",
        "print('Test accuracy: %.3f' % clf.score(X_test, y_test))\n",
        "print('-----------------------------------------------') "
      ],
      "execution_count": null,
      "outputs": []
    },
    {
      "cell_type": "code",
      "metadata": {
        "id": "oAAIommI6qoE"
      },
      "source": [
        "# GS調節SVM_RBF\n",
        "pipe_svc = make_pipeline(StandardScaler(),SVC(random_state=1))\n",
        "scorer = make_scorer(score_func=precision_score, \n",
        "                         pos_label=1, \n",
        "                         greater_is_better=True, \n",
        "                         average='micro')\n",
        "\n",
        "c_gamma_range = [0.0001, 0.001, 0.01, 0.1, 1.0, 10.0, 100.0, 1000.0, 10000.0] \n",
        "param_grid = [{'svc__C': c_gamma_range,\n",
        "               'svc__gamma': c_gamma_range,\n",
        "               'svc__kernel': ['rbf']}]\n",
        "\n",
        "gs = GridSearchCV(estimator=pipe_svc, \n",
        "                  param_grid=param_grid, \n",
        "                  scoring='accuracy', \n",
        "                  refit=True,\n",
        "                  cv=10,\n",
        "                  n_jobs=-1)\n",
        "gs = gs.fit(X_train, y_train)\n",
        "\n",
        "print(\"Best parameters set found on development set:\")\n",
        "print()\n",
        "print(gs.best_params_)\n",
        "print()\n",
        "print(\"Grid scores on development set:\")\n",
        "print()\n",
        "means = gs.cv_results_['mean_test_score']\n",
        "stds = gs.cv_results_['std_test_score']\n",
        "for mean, std, params in zip(means, stds, gs.cv_results_['params']):\n",
        "    print(\"%0.3f (+/-%0.03f) for %r\"\n",
        "            % (mean, std * 2, params))\n",
        "print()    \n",
        "print('-----------------------------------------------')     \n",
        "print(\"Classification report:\")\n",
        "print(\"The model is trained on the full development set.\")\n",
        "print(\"The scores are computed on the full evaluation set.\")\n",
        "print()\n",
        "print(\"Best train accuracy from gridsearch:\")\n",
        "print(gs.best_score_)\n",
        "print(\"Best parameters from gridsearch:\")\n",
        "print(gs.best_params_)\n",
        "clf = gs.best_estimator_\n",
        "print('Test accuracy: %.3f' % clf.score(X_test, y_test))\n",
        "print('-----------------------------------------------') "
      ],
      "execution_count": null,
      "outputs": []
    },
    {
      "cell_type": "code",
      "metadata": {
        "id": "jc-xoFzw6qoF"
      },
      "source": [
        "# GS調節SVM-Linear\n",
        "pipe_svc = make_pipeline(StandardScaler(),SVC(random_state=10000))\n",
        "scorer = make_scorer(score_func=precision_score, \n",
        "                         pos_label=1, \n",
        "                         greater_is_better=True, \n",
        "                         average='micro')\n",
        "\n",
        "c_gamma_range = [0.0001, 0.001, 0.01, 0.1, 1.0, 10.0, 100.0, 1000.0, 10000.0] \n",
        "param_grid = [{'svc__C': c_gamma_range,\n",
        "               'svc__kernel': ['linear']}]\n",
        "\n",
        "gs = GridSearchCV(estimator=pipe_svc, \n",
        "                  param_grid=param_grid, \n",
        "                  scoring='accuracy', \n",
        "                  refit=True,\n",
        "                  cv=10,\n",
        "                  n_jobs=-1)\n",
        "gs = gs.fit(X_train, y_train)\n",
        "\n",
        "print(\"Best parameters set found on development set:\")\n",
        "print()\n",
        "print(gs.best_params_)\n",
        "print()\n",
        "print(\"Grid scores on development set:\")\n",
        "print()\n",
        "means = gs.cv_results_['mean_test_score']\n",
        "stds = gs.cv_results_['std_test_score']\n",
        "for mean, std, params in zip(means, stds, gs.cv_results_['params']):\n",
        "    print(\"%0.3f (+/-%0.03f) for %r\"\n",
        "            % (mean, std * 2, params))\n",
        "print()    \n",
        "print('-----------------------------------------------')     \n",
        "print(\"Classification report:\")\n",
        "print(\"The model is trained on the full development set.\")\n",
        "print(\"The scores are computed on the full evaluation set.\")\n",
        "print()\n",
        "print(\"Best train accuracy from gridsearch:\")\n",
        "print(gs.best_score_)\n",
        "print(\"Best parameters from gridsearch:\")\n",
        "print(gs.best_params_)\n",
        "clf = gs.best_estimator_\n",
        "print('Test accuracy: %.3f' % clf.score(X_test, y_test))\n",
        "print('-----------------------------------------------') "
      ],
      "execution_count": null,
      "outputs": []
    },
    {
      "cell_type": "code",
      "metadata": {
        "id": "CBOYr-KA6qoF"
      },
      "source": [
        "# GS調節SVM_sigmoid\n",
        "pipe_svc = make_pipeline(StandardScaler(),SVC(random_state=2))\n",
        "scorer = make_scorer(score_func=precision_score, \n",
        "                         pos_label=1, \n",
        "                         greater_is_better=True, \n",
        "                         average='micro')\n",
        "\n",
        "c_gamma_range = [0.0001, 0.001, 0.01, 0.1, 1.0, 10.0, 100.0, 1000.0, 10000.0] \n",
        "param_grid = [{'svc__C': c_gamma_range,\n",
        "               'svc__gamma': c_gamma_range,\n",
        "               'svc__kernel': ['sigmoid']}]\n",
        "\n",
        "gs = GridSearchCV(estimator=pipe_svc, \n",
        "                  param_grid=param_grid, \n",
        "                  scoring='accuracy', \n",
        "                  refit=True,\n",
        "                  cv=10,\n",
        "                  n_jobs=-1)\n",
        "gs = gs.fit(X_train, y_train)\n",
        "\n",
        "print(\"Best parameters set found on development set:\")\n",
        "print()\n",
        "print(gs.best_params_)\n",
        "print()\n",
        "print(\"Grid scores on development set:\")\n",
        "print()\n",
        "means = gs.cv_results_['mean_test_score']\n",
        "stds = gs.cv_results_['std_test_score']\n",
        "for mean, std, params in zip(means, stds, gs.cv_results_['params']):\n",
        "    print(\"%0.3f (+/-%0.03f) for %r\"\n",
        "            % (mean, std * 2, params))\n",
        "print()    \n",
        "print('-----------------------------------------------')     \n",
        "print(\"Classification report:\")\n",
        "print(\"The model is trained on the full development set.\")\n",
        "print(\"The scores are computed on the full evaluation set.\")\n",
        "print()\n",
        "print(\"Best train accuracy from gridsearch:\")\n",
        "print(gs.best_score_)\n",
        "print(\"Best parameters from gridsearch:\")\n",
        "print(gs.best_params_)\n",
        "clf = gs.best_estimator_\n",
        "print('Test accuracy: %.3f' % clf.score(X_test, y_test))\n",
        "print('-----------------------------------------------') "
      ],
      "execution_count": null,
      "outputs": []
    },
    {
      "cell_type": "markdown",
      "metadata": {
        "id": "_K2WFApCTPTw"
      },
      "source": [
        "#包在一起訓練法 (當然也可以分開訓練在儲存)\n",
        "\n",
        "目的: 整齊好看，僅此而已\n",
        "\n",
        "訓練完後，簡單用最終測試print一下結果，然後用joblib儲存訓練好模型"
      ]
    },
    {
      "cell_type": "code",
      "metadata": {
        "id": "8THz51196qoF"
      },
      "source": [
        "clf1 = LogisticRegression(penalty='l2', C=0.1,solver='lbfgs',random_state=500)\n",
        "\n",
        "clf2 = DecisionTreeClassifier(max_depth=3, criterion='entropy',random_state=500)\n",
        "\n",
        "clf3 = SVC(kernel='rbf',gamma=10, C=1,random_state=500)\n",
        "\n",
        "clf4 = SVC(kernel='sigmoid',gamma=0.001,C=1000,random_state=500)\n",
        "\n",
        "clf5 = SVC(kernel='poly',C=0.0001,gamma=0.0001,degree=2,random_state=500)\n",
        "\n",
        "clf6 = SVC(kernel='linear',C=10,random_state=500)\n",
        "\n",
        "\n",
        "pipe1 = Pipeline([['sc', StandardScaler()],\n",
        "                  ['clf', clf1]])\n",
        "pipe3 = Pipeline([['sc', StandardScaler()],\n",
        "                  ['clf', clf3]])\n",
        "pipe4 = Pipeline([['sc', StandardScaler()],\n",
        "                  ['clf', clf4]])\n",
        "pipe5 = Pipeline([['sc', StandardScaler()],\n",
        "                  ['clf', clf5]])\n",
        "pipe6 = Pipeline([['sc', StandardScaler()],\n",
        "                  ['clf', clf6]])\n",
        "\n",
        "eclf1 = VotingClassifier(estimators=[('lr', pipe1), ('dt', clf2), ('svm_rbf', pipe3), ('svm_sig', pipe4),\n",
        "                                     ('svm_poly', pipe5), ('svm_linear', pipe6)], voting='hard')\n",
        "eclf2 = VotingClassifier(estimators=[('lr', pipe1), ('dt', clf2), ('svm_rbf', pipe3), ('svm_sig', pipe4),\n",
        "                                     ('svm_poly', pipe5), ('svm_linear', pipe6)], voting='hard', \n",
        "                         weights=[1,3,4,1,1,2], flatten_transform=True)\n",
        "\n",
        "clf_labels = ['LogisticRegression model','DecisionTree model','svm_RBF model','svm_Sigmoid model','svm_Poly model','svm_linear model']\n",
        "\n",
        "\n",
        "pipe1.fit(X_train, y_train)\n",
        "print('---LogisticRegression model---')\n",
        "print('Training accuracy:', pipe1.score(X_train, y_train))\n",
        "print('Test accuracy:', pipe1.score(X_test, y_test))\n",
        "\n",
        "clf2.fit(X_train, y_train)\n",
        "print('---DecisionTree model---')\n",
        "print('Training accuracy:', clf2.score(X_train, y_train))\n",
        "print('Test accuracy:', clf2.score(X_test, y_test))\n",
        "\n",
        "\n",
        "pipe3.fit(X_train, y_train)\n",
        "print('---svm_RBF model---')\n",
        "print('Training accuracy:', pipe3.score(X_train, y_train))\n",
        "print('Test accuracy:', pipe3.score(X_test, y_test))\n",
        "\n",
        "pipe4.fit(X_train, y_train)\n",
        "print('---svm_Sigmoid model---')\n",
        "print('Training accuracy:', pipe4.score(X_train, y_train))\n",
        "print('Test accuracy:', pipe4.score(X_test, y_test))\n",
        "\n",
        "pipe5.fit(X_train, y_train)\n",
        "print('---svm_Poly model---')\n",
        "print('Training accuracy:', pipe5.score(X_train, y_train))\n",
        "print('Test accuracy:', pipe5.score(X_test, y_test))\n",
        "\n",
        "pipe6.fit(X_train, y_train)\n",
        "print('---svm_linear model---')\n",
        "print('Training accuracy:', pipe6.score(X_train, y_train))\n",
        "print('Test accuracy:', pipe6.score(X_test, y_test))\n",
        "\n",
        "\n",
        "eclf1.fit(X, y)\n",
        "print('---Hard Majority Vote---')\n",
        "print('Training accuracy:', eclf1.score(X_train, y_train))\n",
        "print('Test accuracy:', eclf1.score(X_test, y_test))\n",
        "\n",
        "eclf2.fit(X, y)\n",
        "print('---Soft Majority Vote---')\n",
        "print('Training accuracy:', eclf2.score(X_train, y_train))\n",
        "print('Test accuracy:', eclf2.score(X_test, y_test))\n"
      ],
      "execution_count": null,
      "outputs": []
    },
    {
      "cell_type": "code",
      "metadata": {
        "id": "5hbeAZtP6qoG"
      },
      "source": [
        "kfold = StratifiedKFold(n_splits=10).split(X_train, y_train)\n",
        "\n",
        "clf_labels = ['1.Logistic regression', '2.Decision tree', '3.svm_RBF', '4.svm_Sigmoid', \n",
        "              '5.svm_Polynomial kernal', '6.svm_Linear','7.Bagging ', '8.Majority weighted Vote']\n",
        "scores = []\n",
        "\n",
        "print('K-fold cross validation:\\n')\n",
        "for clf, label in zip([pipe1, clf2, pipe3, pipe4, pipe5, pipe6, eclf1, eclf2], clf_labels):\n",
        "    scores = cross_val_score(estimator=clf,X=X_train,y=y_train,cv=10)\n",
        "    print(\"cross validation score: %0.2f (+/- %0.2f) [%s]\"% (scores.mean(), scores.std(), label))"
      ],
      "execution_count": null,
      "outputs": []
    },
    {
      "cell_type": "code",
      "metadata": {
        "id": "iRrpAKgr6qoG"
      },
      "source": [
        "#儲存\n",
        "joblib.dump(clf2, \"Tool_Life_Classification_Model/0716DT_model.dat\")\n",
        "joblib.dump(pipe1, \"Tool_Life_Classification_Model/0716LRM_model.dat\")\n",
        "joblib.dump(pipe3, \"Tool_Life_Classification_Model/0716RBF_model.dat\")\n",
        "joblib.dump(pipe4, \"Tool_Life_Classification_Model/0716Sig_model.dat\")\n",
        "joblib.dump(pipe5, \"Tool_Life_Classification_Model/0716Poly_model.dat\")\n",
        "joblib.dump(pipe6, \"Tool_Life_Classification_Model/0716Line_model.dat\")"
      ],
      "execution_count": null,
      "outputs": []
    },
    {
      "cell_type": "code",
      "metadata": {
        "id": "cBB0J2Ab6qoG"
      },
      "source": [
        "joblib.dump(eclf1, \"Tool_Life_Classification_Model/0805Mjv_model.dat\")\n",
        "joblib.dump(eclf2, \"Tool_Life_Classification_Model/0805rMjv_model.dat\")"
      ],
      "execution_count": null,
      "outputs": []
    },
    {
      "cell_type": "code",
      "metadata": {
        "id": "f3riNYXV6qoG"
      },
      "source": [
        "#自寫bagging 無調(調不好) 最後還是決定用套件搞\n",
        "from sklearn.base import BaseEstimator\n",
        "from sklearn.base import ClassifierMixin\n",
        "from sklearn.preprocessing import LabelEncoder\n",
        "from sklearn.base import clone\n",
        "from sklearn.pipeline import _name_estimators\n",
        "import numpy as np\n",
        "import operator\n",
        "\n",
        "\n",
        "class MajorityVoteClassifier(BaseEstimator, ClassifierMixin):\n",
        "    def __init__(self, classifiers, vote='classlabel', weights=None):\n",
        "\n",
        "        self.classifiers = classifiers\n",
        "        self.named_classifiers = {key: value for key, value in _name_estimators(classifiers)}\n",
        "        self.vote = vote\n",
        "        self.weights = weights\n",
        "\n",
        "    def fit(self, X, y):\n",
        "\n",
        "        if self.vote not in ('probability', 'classlabel'):\n",
        "            raise ValueError(\"vote must be 'probability' or 'classlabel'\" \"; got (vote=%r)\" % self.vote)\n",
        "\n",
        "        if self.weights and len(self.weights) != len(self.classifiers):\n",
        "            raise ValueError('Number of classifiers and weights must be equal' '; got %d weights, %d classifiers' % (len(self.weights), len(self.classifiers)))\n",
        "\n",
        "        self.lablenc_ = LabelEncoder()\n",
        "        self.lablenc_.fit(y)\n",
        "        self.classes_ = self.lablenc_.classes_\n",
        "        self.classifiers_ = []\n",
        "        for clf in self.classifiers:\n",
        "            fitted_clf = clone(clf).fit(X, self.lablenc_.transform(y))\n",
        "            self.classifiers_.append(fitted_clf)\n",
        "        return self\n",
        "\n",
        "    def predict(self, X):\n",
        "        if self.vote == 'probability':\n",
        "            maj_vote = np.argmax(self.predict_proba(X), axis=1)\n",
        "        else: \n",
        "            predictions = np.asarray([clf.predict(X)\n",
        "             for clf in self.classifiers_]).T\n",
        "                 maj_vote = np.apply_along_axis( lambda x: np.argmax(np.bincount(x, weights=self.weights)), axis=1, arr=predictions)\n",
        "        maj_vote = self.lablenc_.inverse_transform(maj_vote)\n",
        "        return maj_vote\n",
        "\n",
        "    def predict_proba(self, X):\n",
        "        probas = np.asarray([clf.predict_proba(X)\n",
        "         for clf in self.classifiers_]) \n",
        "            avg_proba = np.average(probas, axis=0, weights=self.weights)\n",
        "        return avg_proba\n",
        "\n",
        "    def get_params(self, deep=True):\n",
        "        if not deep:\n",
        "            return super(MajorityVoteClassifier, self).get_params(deep=False)\n",
        "        else:\n",
        "            out = self.named_classifiers.copy()\n",
        "            for name, step in self.named_classifiers.items():\n",
        "                for key, value in step.get_params(deep=True).items():\n",
        "                    out['%s__%s' % (name, key)] = value\n",
        "            return out"
      ],
      "execution_count": null,
      "outputs": []
    },
    {
      "cell_type": "code",
      "metadata": {
        "id": "XzKS08BK6qoH"
      },
      "source": [
        "mv_clf = MajorityVoteClassifier(classifiers=[pipe1, clf2, pipe3, pipe4, pipe5, pipe6])\n",
        "clf_labels += ['Majority voting']\n",
        "all_clf = [pipe1, clf2, pipe3, pipe4, pipe5, pipe6, mv_clf]\n",
        "\n",
        "for clf, label in zip(all_clf, clf_labels):\n",
        "    scores = cross_val_score(estimator=clf, X=X_train,y=y_train, cv=10)\n",
        "    print(\"accuracy: %0.2f (+/- %0.2f) [%s]\" % (scores.mean(), scores.std(), label))"
      ],
      "execution_count": null,
      "outputs": []
    },
    {
      "cell_type": "code",
      "metadata": {
        "id": "Z-pCMVIw6qoH"
      },
      "source": [
        "#看一下包起來裡面在幹嘛\n",
        "mv_clf.get_params()"
      ],
      "execution_count": null,
      "outputs": []
    },
    {
      "cell_type": "code",
      "metadata": {
        "id": "Nlx8hhg-6qoH"
      },
      "source": [
        "# 自適應增強\n",
        "from sklearn.ensemble import AdaBoostClassifier\n",
        "\n",
        "tree = DecisionTreeClassifier(criterion='entropy', \n",
        "                              max_depth=1,\n",
        "                              random_state=10)\n",
        "\n",
        "ada = AdaBoostClassifier(base_estimator=tree,\n",
        "                         n_estimators=1000, \n",
        "                         learning_rate=0.1,\n",
        "                         random_state=10)\n",
        "\n",
        "tree = tree.fit(X_train, y_train)\n",
        "y_train_pred = tree.predict(X_train)\n",
        "y_test_pred = tree.predict(X_test)\n",
        "\n",
        "tree_train = accuracy_score(y_train, y_train_pred)\n",
        "tree_test = accuracy_score(y_test, y_test_pred)\n",
        "print('Decision tree train/test accuracy %.14f/%.14f'\n",
        "      % (tree_train, tree_test))\n",
        "\n",
        "ada = ada.fit(X_train, y_train)\n",
        "y_train_pred = ada.predict(X_train)\n",
        "y_test_pred = ada.predict(X_test)\n",
        "\n",
        "ada_train = accuracy_score(y_train, y_train_pred) \n",
        "ada_test = accuracy_score(y_test, y_test_pred) \n",
        "print('AdaBoost train/test accuracy %.14f/%.14f'\n",
        "      % (ada_train, ada_test))"
      ],
      "execution_count": null,
      "outputs": []
    },
    {
      "cell_type": "code",
      "metadata": {
        "id": "eLgLrvew6qoJ"
      },
      "source": [
        "joblib.dump(ada, \"Tool_Life_Classification_Model/0807adaboost_model.dat\")"
      ],
      "execution_count": null,
      "outputs": []
    }
  ]
}
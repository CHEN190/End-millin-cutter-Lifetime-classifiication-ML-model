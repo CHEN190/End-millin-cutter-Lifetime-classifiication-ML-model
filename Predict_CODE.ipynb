{
 "cells": [
  {
   "cell_type": "code",
   "execution_count": 2,
   "metadata": {},
   "outputs": [],
   "source": [
    "import sklearn.externals\n",
    "import joblib\n",
    "import pandas as pd # 引用套件並縮寫為pd\n",
    "import numpy as np\n",
    "import matplotlib.pyplot as plt\n",
    "import warnings\n",
    "warnings.filterwarnings(\"ignore\") # 把warning關掉\n",
    "\n",
    "from sklearn import datasets\n",
    "import numpy as np\n",
    "from IPython.display import Image\n",
    "\n",
    "%matplotlib inline\n"
   ]
  },
  {
   "cell_type": "code",
   "execution_count": 40,
   "metadata": {},
   "outputs": [
    {
     "data": {
      "text/html": [
       "<div>\n",
       "<style scoped>\n",
       "    .dataframe tbody tr th:only-of-type {\n",
       "        vertical-align: middle;\n",
       "    }\n",
       "\n",
       "    .dataframe tbody tr th {\n",
       "        vertical-align: top;\n",
       "    }\n",
       "\n",
       "    .dataframe thead th {\n",
       "        text-align: right;\n",
       "    }\n",
       "</style>\n",
       "<table border=\"1\" class=\"dataframe\">\n",
       "  <thead>\n",
       "    <tr style=\"text-align: right;\">\n",
       "      <th></th>\n",
       "      <th>VBmaxWD_F1</th>\n",
       "      <th>VBmaxWD_F2</th>\n",
       "      <th>VBmaxWD_F3</th>\n",
       "      <th>VBmaxWD_F4</th>\n",
       "      <th>VBsumWD_F1</th>\n",
       "      <th>VBsumWD_F2</th>\n",
       "      <th>VBsumWD_F3</th>\n",
       "      <th>VBsumWD_F4</th>\n",
       "      <th>VBWL_F1</th>\n",
       "      <th>VBWL_F2</th>\n",
       "      <th>...</th>\n",
       "      <th>CHWL_F3</th>\n",
       "      <th>CHWL_F4</th>\n",
       "      <th>PHnum_F1</th>\n",
       "      <th>PHnum_F2</th>\n",
       "      <th>PHnum_F3</th>\n",
       "      <th>PHnum_F4</th>\n",
       "      <th>PHsum_F1</th>\n",
       "      <th>PHsum_F2</th>\n",
       "      <th>PHsum_F3</th>\n",
       "      <th>PHsum_F4</th>\n",
       "    </tr>\n",
       "  </thead>\n",
       "  <tbody>\n",
       "    <tr>\n",
       "      <th>0</th>\n",
       "      <td>634.27</td>\n",
       "      <td>188.19</td>\n",
       "      <td>188.19</td>\n",
       "      <td>188.19</td>\n",
       "      <td>2276429.88</td>\n",
       "      <td>957224.95</td>\n",
       "      <td>957343.44</td>\n",
       "      <td>958305.3</td>\n",
       "      <td>4899.7</td>\n",
       "      <td>4221.28</td>\n",
       "      <td>...</td>\n",
       "      <td>4258.97</td>\n",
       "      <td>4258.97</td>\n",
       "      <td>810</td>\n",
       "      <td>348</td>\n",
       "      <td>476</td>\n",
       "      <td>415</td>\n",
       "      <td>34524.04</td>\n",
       "      <td>13153.81</td>\n",
       "      <td>18543.48</td>\n",
       "      <td>16169.01</td>\n",
       "    </tr>\n",
       "  </tbody>\n",
       "</table>\n",
       "<p>1 rows × 32 columns</p>\n",
       "</div>"
      ],
      "text/plain": [
       "   VBmaxWD_F1  VBmaxWD_F2  VBmaxWD_F3  VBmaxWD_F4  VBsumWD_F1  VBsumWD_F2  \\\n",
       "0      634.27      188.19      188.19      188.19  2276429.88   957224.95   \n",
       "\n",
       "   VBsumWD_F3  VBsumWD_F4  VBWL_F1  VBWL_F2  ...  CHWL_F3  CHWL_F4  PHnum_F1  \\\n",
       "0   957343.44    958305.3   4899.7  4221.28  ...  4258.97  4258.97       810   \n",
       "\n",
       "   PHnum_F2  PHnum_F3  PHnum_F4  PHsum_F1  PHsum_F2  PHsum_F3  PHsum_F4  \n",
       "0       348       476       415  34524.04  13153.81  18543.48  16169.01  \n",
       "\n",
       "[1 rows x 32 columns]"
      ]
     },
     "execution_count": 40,
     "metadata": {},
     "output_type": "execute_result"
    }
   ],
   "source": [
    "predata = pd.read_csv(r'C:\\Users\\user\\Tool_Life_Classification_Model\\‪TC_4_JSK_D12_190630_Batch1_B16.csv')\n",
    "predata.head()"
   ]
  },
  {
   "cell_type": "code",
   "execution_count": 4,
   "metadata": {},
   "outputs": [
    {
     "data": {
      "text/html": [
       "<div>\n",
       "<style scoped>\n",
       "    .dataframe tbody tr th:only-of-type {\n",
       "        vertical-align: middle;\n",
       "    }\n",
       "\n",
       "    .dataframe tbody tr th {\n",
       "        vertical-align: top;\n",
       "    }\n",
       "\n",
       "    .dataframe thead th {\n",
       "        text-align: right;\n",
       "    }\n",
       "</style>\n",
       "<table border=\"1\" class=\"dataframe\">\n",
       "  <thead>\n",
       "    <tr style=\"text-align: right;\">\n",
       "      <th></th>\n",
       "      <th>VBmaxWD_F1</th>\n",
       "      <th>VBmaxWD_F2</th>\n",
       "      <th>VBmaxWD_F3</th>\n",
       "      <th>VBmaxWD_F4</th>\n",
       "      <th>VBsumWD_F1</th>\n",
       "      <th>VBsumWD_F2</th>\n",
       "      <th>VBsumWD_F3</th>\n",
       "      <th>VBsumWD_F4</th>\n",
       "      <th>VBWL_F1</th>\n",
       "      <th>VBWL_F2</th>\n",
       "      <th>VBWL_F3</th>\n",
       "      <th>VBWL_F4</th>\n",
       "      <th>CHnum_F1</th>\n",
       "      <th>CHnum_F2</th>\n",
       "      <th>CHnum_F3</th>\n",
       "      <th>CHnum_F4</th>\n",
       "      <th>CHsum_F1</th>\n",
       "      <th>CHsum_F2</th>\n",
       "      <th>CHsum_F3</th>\n",
       "      <th>CHsum_F4</th>\n",
       "    </tr>\n",
       "  </thead>\n",
       "  <tbody>\n",
       "    <tr>\n",
       "      <th>0</th>\n",
       "      <td>1177.93</td>\n",
       "      <td>2195.55</td>\n",
       "      <td>2564.96</td>\n",
       "      <td>2564.96</td>\n",
       "      <td>8855099.23</td>\n",
       "      <td>15841471.76</td>\n",
       "      <td>16514564.66</td>\n",
       "      <td>16190801.19</td>\n",
       "      <td>5615.81</td>\n",
       "      <td>5615.81</td>\n",
       "      <td>5427.36</td>\n",
       "      <td>5615.81</td>\n",
       "      <td>706</td>\n",
       "      <td>345</td>\n",
       "      <td>473</td>\n",
       "      <td>524</td>\n",
       "      <td>29473.58</td>\n",
       "      <td>14284.51</td>\n",
       "      <td>18845.00</td>\n",
       "      <td>20616.43</td>\n",
       "    </tr>\n",
       "    <tr>\n",
       "      <th>1</th>\n",
       "      <td>2432.53</td>\n",
       "      <td>1122.17</td>\n",
       "      <td>1122.17</td>\n",
       "      <td>1122.17</td>\n",
       "      <td>12095041.00</td>\n",
       "      <td>8587374.56</td>\n",
       "      <td>8575246.76</td>\n",
       "      <td>8652439.51</td>\n",
       "      <td>1771.43</td>\n",
       "      <td>5615.81</td>\n",
       "      <td>5615.81</td>\n",
       "      <td>5615.81</td>\n",
       "      <td>906</td>\n",
       "      <td>483</td>\n",
       "      <td>399</td>\n",
       "      <td>419</td>\n",
       "      <td>41345.93</td>\n",
       "      <td>18694.24</td>\n",
       "      <td>15490.59</td>\n",
       "      <td>16432.84</td>\n",
       "    </tr>\n",
       "    <tr>\n",
       "      <th>2</th>\n",
       "      <td>1129.14</td>\n",
       "      <td>1010.65</td>\n",
       "      <td>1010.65</td>\n",
       "      <td>1010.65</td>\n",
       "      <td>9063397.68</td>\n",
       "      <td>8986030.68</td>\n",
       "      <td>8908461.55</td>\n",
       "      <td>8907708.79</td>\n",
       "      <td>5615.81</td>\n",
       "      <td>5615.81</td>\n",
       "      <td>5615.81</td>\n",
       "      <td>5578.12</td>\n",
       "      <td>637</td>\n",
       "      <td>275</td>\n",
       "      <td>471</td>\n",
       "      <td>341</td>\n",
       "      <td>26006.10</td>\n",
       "      <td>10779.34</td>\n",
       "      <td>18091.20</td>\n",
       "      <td>13191.50</td>\n",
       "    </tr>\n",
       "    <tr>\n",
       "      <th>3</th>\n",
       "      <td>439.11</td>\n",
       "      <td>690.03</td>\n",
       "      <td>690.03</td>\n",
       "      <td>690.03</td>\n",
       "      <td>1275182.41</td>\n",
       "      <td>5408420.29</td>\n",
       "      <td>5270003.06</td>\n",
       "      <td>5336106.54</td>\n",
       "      <td>1469.91</td>\n",
       "      <td>5615.81</td>\n",
       "      <td>5615.81</td>\n",
       "      <td>5615.81</td>\n",
       "      <td>896</td>\n",
       "      <td>473</td>\n",
       "      <td>489</td>\n",
       "      <td>398</td>\n",
       "      <td>43079.67</td>\n",
       "      <td>18845.00</td>\n",
       "      <td>19146.52</td>\n",
       "      <td>15792.11</td>\n",
       "    </tr>\n",
       "    <tr>\n",
       "      <th>4</th>\n",
       "      <td>432.14</td>\n",
       "      <td>717.91</td>\n",
       "      <td>717.91</td>\n",
       "      <td>717.91</td>\n",
       "      <td>2850381.50</td>\n",
       "      <td>4034479.95</td>\n",
       "      <td>4179288.67</td>\n",
       "      <td>3959231.83</td>\n",
       "      <td>5615.81</td>\n",
       "      <td>5615.81</td>\n",
       "      <td>5578.12</td>\n",
       "      <td>5502.74</td>\n",
       "      <td>701</td>\n",
       "      <td>345</td>\n",
       "      <td>473</td>\n",
       "      <td>524</td>\n",
       "      <td>29360.51</td>\n",
       "      <td>14284.51</td>\n",
       "      <td>18845.00</td>\n",
       "      <td>20804.88</td>\n",
       "    </tr>\n",
       "  </tbody>\n",
       "</table>\n",
       "</div>"
      ],
      "text/plain": [
       "   VBmaxWD_F1  VBmaxWD_F2  VBmaxWD_F3  VBmaxWD_F4   VBsumWD_F1   VBsumWD_F2  \\\n",
       "0     1177.93     2195.55     2564.96     2564.96   8855099.23  15841471.76   \n",
       "1     2432.53     1122.17     1122.17     1122.17  12095041.00   8587374.56   \n",
       "2     1129.14     1010.65     1010.65     1010.65   9063397.68   8986030.68   \n",
       "3      439.11      690.03      690.03      690.03   1275182.41   5408420.29   \n",
       "4      432.14      717.91      717.91      717.91   2850381.50   4034479.95   \n",
       "\n",
       "    VBsumWD_F3   VBsumWD_F4  VBWL_F1  VBWL_F2  VBWL_F3  VBWL_F4  CHnum_F1  \\\n",
       "0  16514564.66  16190801.19  5615.81  5615.81  5427.36  5615.81       706   \n",
       "1   8575246.76   8652439.51  1771.43  5615.81  5615.81  5615.81       906   \n",
       "2   8908461.55   8907708.79  5615.81  5615.81  5615.81  5578.12       637   \n",
       "3   5270003.06   5336106.54  1469.91  5615.81  5615.81  5615.81       896   \n",
       "4   4179288.67   3959231.83  5615.81  5615.81  5578.12  5502.74       701   \n",
       "\n",
       "   CHnum_F2  CHnum_F3  CHnum_F4  CHsum_F1  CHsum_F2  CHsum_F3  CHsum_F4  \n",
       "0       345       473       524  29473.58  14284.51  18845.00  20616.43  \n",
       "1       483       399       419  41345.93  18694.24  15490.59  16432.84  \n",
       "2       275       471       341  26006.10  10779.34  18091.20  13191.50  \n",
       "3       473       489       398  43079.67  18845.00  19146.52  15792.11  \n",
       "4       345       473       524  29360.51  14284.51  18845.00  20804.88  "
      ]
     },
     "execution_count": 4,
     "metadata": {},
     "output_type": "execute_result"
    }
   ],
   "source": [
    "predata.drop( ['Source.name'],axis = 1,inplace = True)\n",
    "predata.head()"
   ]
  },
  {
   "cell_type": "code",
   "execution_count": 6,
   "metadata": {},
   "outputs": [
    {
     "data": {
      "text/html": [
       "<div>\n",
       "<style scoped>\n",
       "    .dataframe tbody tr th:only-of-type {\n",
       "        vertical-align: middle;\n",
       "    }\n",
       "\n",
       "    .dataframe tbody tr th {\n",
       "        vertical-align: top;\n",
       "    }\n",
       "\n",
       "    .dataframe thead th {\n",
       "        text-align: right;\n",
       "    }\n",
       "</style>\n",
       "<table border=\"1\" class=\"dataframe\">\n",
       "  <thead>\n",
       "    <tr style=\"text-align: right;\">\n",
       "      <th></th>\n",
       "      <th>VBmaxWD_F1</th>\n",
       "      <th>VBmaxWD_F2</th>\n",
       "      <th>VBmaxWD_F3</th>\n",
       "      <th>VBmaxWD_F4</th>\n",
       "      <th>VBsumWD_F1</th>\n",
       "      <th>VBsumWD_F2</th>\n",
       "      <th>VBsumWD_F3</th>\n",
       "      <th>VBsumWD_F4</th>\n",
       "      <th>VBWL_F1</th>\n",
       "      <th>VBWL_F2</th>\n",
       "      <th>VBWL_F3</th>\n",
       "      <th>VBWL_F4</th>\n",
       "      <th>CHnum_F1</th>\n",
       "      <th>CHnum_F2</th>\n",
       "      <th>CHnum_F3</th>\n",
       "      <th>CHnum_F4</th>\n",
       "      <th>CHsum_F1</th>\n",
       "      <th>CHsum_F2</th>\n",
       "      <th>CHsum_F3</th>\n",
       "      <th>CHsum_F4</th>\n",
       "    </tr>\n",
       "  </thead>\n",
       "  <tbody>\n",
       "    <tr>\n",
       "      <th>0</th>\n",
       "      <td>125.46</td>\n",
       "      <td>174.25</td>\n",
       "      <td>174.25</td>\n",
       "      <td>174.25</td>\n",
       "      <td>259486.13</td>\n",
       "      <td>253526.78</td>\n",
       "      <td>253526.78</td>\n",
       "      <td>253526.78</td>\n",
       "      <td>3165.96</td>\n",
       "      <td>5427.36</td>\n",
       "      <td>5427.36</td>\n",
       "      <td>5427.36</td>\n",
       "      <td>668</td>\n",
       "      <td>374</td>\n",
       "      <td>268</td>\n",
       "      <td>346</td>\n",
       "      <td>27212.18</td>\n",
       "      <td>14623.72</td>\n",
       "      <td>10402.44</td>\n",
       "      <td>13719.16</td>\n",
       "    </tr>\n",
       "    <tr>\n",
       "      <th>0</th>\n",
       "      <td>1177.93</td>\n",
       "      <td>2195.55</td>\n",
       "      <td>2564.96</td>\n",
       "      <td>2564.96</td>\n",
       "      <td>8855099.23</td>\n",
       "      <td>15841471.76</td>\n",
       "      <td>16514564.66</td>\n",
       "      <td>16190801.19</td>\n",
       "      <td>5615.81</td>\n",
       "      <td>5615.81</td>\n",
       "      <td>5427.36</td>\n",
       "      <td>5615.81</td>\n",
       "      <td>706</td>\n",
       "      <td>345</td>\n",
       "      <td>473</td>\n",
       "      <td>524</td>\n",
       "      <td>29473.58</td>\n",
       "      <td>14284.51</td>\n",
       "      <td>18845.00</td>\n",
       "      <td>20616.43</td>\n",
       "    </tr>\n",
       "    <tr>\n",
       "      <th>1</th>\n",
       "      <td>2432.53</td>\n",
       "      <td>1122.17</td>\n",
       "      <td>1122.17</td>\n",
       "      <td>1122.17</td>\n",
       "      <td>12095041.00</td>\n",
       "      <td>8587374.56</td>\n",
       "      <td>8575246.76</td>\n",
       "      <td>8652439.51</td>\n",
       "      <td>1771.43</td>\n",
       "      <td>5615.81</td>\n",
       "      <td>5615.81</td>\n",
       "      <td>5615.81</td>\n",
       "      <td>906</td>\n",
       "      <td>483</td>\n",
       "      <td>399</td>\n",
       "      <td>419</td>\n",
       "      <td>41345.93</td>\n",
       "      <td>18694.24</td>\n",
       "      <td>15490.59</td>\n",
       "      <td>16432.84</td>\n",
       "    </tr>\n",
       "    <tr>\n",
       "      <th>2</th>\n",
       "      <td>1129.14</td>\n",
       "      <td>1010.65</td>\n",
       "      <td>1010.65</td>\n",
       "      <td>1010.65</td>\n",
       "      <td>9063397.68</td>\n",
       "      <td>8986030.68</td>\n",
       "      <td>8908461.55</td>\n",
       "      <td>8907708.79</td>\n",
       "      <td>5615.81</td>\n",
       "      <td>5615.81</td>\n",
       "      <td>5615.81</td>\n",
       "      <td>5578.12</td>\n",
       "      <td>637</td>\n",
       "      <td>275</td>\n",
       "      <td>471</td>\n",
       "      <td>341</td>\n",
       "      <td>26006.10</td>\n",
       "      <td>10779.34</td>\n",
       "      <td>18091.20</td>\n",
       "      <td>13191.50</td>\n",
       "    </tr>\n",
       "    <tr>\n",
       "      <th>3</th>\n",
       "      <td>439.11</td>\n",
       "      <td>690.03</td>\n",
       "      <td>690.03</td>\n",
       "      <td>690.03</td>\n",
       "      <td>1275182.41</td>\n",
       "      <td>5408420.29</td>\n",
       "      <td>5270003.06</td>\n",
       "      <td>5336106.54</td>\n",
       "      <td>1469.91</td>\n",
       "      <td>5615.81</td>\n",
       "      <td>5615.81</td>\n",
       "      <td>5615.81</td>\n",
       "      <td>896</td>\n",
       "      <td>473</td>\n",
       "      <td>489</td>\n",
       "      <td>398</td>\n",
       "      <td>43079.67</td>\n",
       "      <td>18845.00</td>\n",
       "      <td>19146.52</td>\n",
       "      <td>15792.11</td>\n",
       "    </tr>\n",
       "  </tbody>\n",
       "</table>\n",
       "</div>"
      ],
      "text/plain": [
       "   VBmaxWD_F1  VBmaxWD_F2  VBmaxWD_F3  VBmaxWD_F4   VBsumWD_F1   VBsumWD_F2  \\\n",
       "0      125.46      174.25      174.25      174.25    259486.13    253526.78   \n",
       "0     1177.93     2195.55     2564.96     2564.96   8855099.23  15841471.76   \n",
       "1     2432.53     1122.17     1122.17     1122.17  12095041.00   8587374.56   \n",
       "2     1129.14     1010.65     1010.65     1010.65   9063397.68   8986030.68   \n",
       "3      439.11      690.03      690.03      690.03   1275182.41   5408420.29   \n",
       "\n",
       "    VBsumWD_F3   VBsumWD_F4  VBWL_F1  VBWL_F2  VBWL_F3  VBWL_F4  CHnum_F1  \\\n",
       "0    253526.78    253526.78  3165.96  5427.36  5427.36  5427.36       668   \n",
       "0  16514564.66  16190801.19  5615.81  5615.81  5427.36  5615.81       706   \n",
       "1   8575246.76   8652439.51  1771.43  5615.81  5615.81  5615.81       906   \n",
       "2   8908461.55   8907708.79  5615.81  5615.81  5615.81  5578.12       637   \n",
       "3   5270003.06   5336106.54  1469.91  5615.81  5615.81  5615.81       896   \n",
       "\n",
       "   CHnum_F2  CHnum_F3  CHnum_F4  CHsum_F1  CHsum_F2  CHsum_F3  CHsum_F4  \n",
       "0       374       268       346  27212.18  14623.72  10402.44  13719.16  \n",
       "0       345       473       524  29473.58  14284.51  18845.00  20616.43  \n",
       "1       483       399       419  41345.93  18694.24  15490.59  16432.84  \n",
       "2       275       471       341  26006.10  10779.34  18091.20  13191.50  \n",
       "3       473       489       398  43079.67  18845.00  19146.52  15792.11  "
      ]
     },
     "execution_count": 6,
     "metadata": {},
     "output_type": "execute_result"
    }
   ],
   "source": [
    "predata = pd.concat([data, predata], sort=False)\n",
    "predata.head()"
   ]
  },
  {
   "cell_type": "code",
   "execution_count": 7,
   "metadata": {},
   "outputs": [
    {
     "name": "stdout",
     "output_type": "stream",
     "text": [
      "[[-0.43032352 -0.18877636 -0.17032502 -0.1737501  -0.39716754 -0.31096953\n",
      "  -0.30649153 -0.30841113 -1.20870178  0.6352016   0.63329602  0.58627137\n",
      "  -0.2220698  -0.09035896 -1.58398807 -0.83434587 -0.28868759 -0.06514874\n",
      "  -1.52708372 -0.7738792 ]\n",
      " [ 3.07320911  8.6347604   9.67599239  9.58546696  5.60343835 10.50436197\n",
      "  10.74948485 10.64046892  0.77327641  0.77939082  0.63329602  0.73589826\n",
      "   0.09650348 -0.45679293  1.21712567  1.72114145  0.02267156 -0.17249307\n",
      "   1.34281782  1.6905041 ]\n",
      " [ 7.24960561  3.94915812  3.73375418  3.69579369  7.86524487  5.47127608\n",
      "   5.35149538  5.46162744 -2.33690474  0.77939082  0.78243942  0.73589826\n",
      "   1.77320496  1.28692731  0.20599193  0.21369106  1.65730709  1.2229833\n",
      "   0.20254444  0.19571423]\n",
      " [ 2.91079369  3.4623423   3.27445075  3.24055324  5.74885171  5.74787431\n",
      "   5.5780501   5.63699699  0.77327641  0.77939082  0.78243942  0.70597288\n",
      "  -0.48195852 -1.3412887   1.18979774 -0.90612922 -0.4547458  -1.28171788\n",
      "   1.08657661 -0.96241126]\n",
      " [ 0.61377561  2.06274681  1.95395337  1.93173696  0.31189103  3.26563292\n",
      "   3.10424053  3.18331241 -2.58084052  0.77939082  0.78243942  0.73589826\n",
      "   1.68936989  1.16057077  1.43574919 -0.08779901  1.89601577  1.27069189\n",
      "   1.4453143  -0.03321755]]\n"
     ]
    }
   ],
   "source": [
    "#標準化 \n",
    "from sklearn.preprocessing import StandardScaler \n",
    "std=StandardScaler()\n",
    "std.fit(predata)\n",
    "predata_std=std.transform(predata)\n",
    "print(predata_std[0:5,:])"
   ]
  },
  {
   "cell_type": "code",
   "execution_count": 8,
   "metadata": {},
   "outputs": [
    {
     "name": "stdout",
     "output_type": "stream",
     "text": [
      "[-0.43032352 -0.18877636 -0.17032502 -0.1737501  -0.39716754 -0.31096953\n",
      " -0.30649153 -0.30841113 -1.20870178  0.6352016   0.63329602  0.58627137\n",
      " -0.2220698  -0.09035896 -1.58398807 -0.83434587 -0.28868759 -0.06514874\n",
      " -1.52708372 -0.7738792 ]\n"
     ]
    }
   ],
   "source": [
    "testdata = predata_std[0,:]\n",
    "print(testdata)"
   ]
  },
  {
   "cell_type": "code",
   "execution_count": 3,
   "metadata": {},
   "outputs": [],
   "source": [
    "Model_LRM = joblib.load(\"0716LRM_model.dat\")\n",
    "Model_DT = joblib.load(\"0716DT_model.dat\")\n",
    "Model_RBF = joblib.load(\"0716RBF_model.dat\")\n",
    "Model_Line = joblib.load(\"0716Line_model.dat\")\n",
    "Model_Poly = joblib.load(\"0716Poly_model.dat\")\n",
    "Model_Sig = joblib.load(\"0716Sig_model.dat\")\n",
    "Model_Mjv = joblib.load(\"0805Mjv_model.dat\")\n",
    "Model_rMjv = joblib.load(\"0805rMjv_model.dat\")\n",
    "Model_Adb = joblib.load(\"0807adaboost_model.dat\")"
   ]
  },
  {
   "cell_type": "code",
   "execution_count": 4,
   "metadata": {},
   "outputs": [
    {
     "name": "stdout",
     "output_type": "stream",
     "text": [
      "   VBmaxWD_F1  VBmaxWD_F2  VBmaxWD_F3  VBmaxWD_F4  VBsumWD_F1  VBsumWD_F2  \\\n",
      "0       83.64       41.82       41.82       41.82    62743.94    63663.98   \n",
      "\n",
      "   VBsumWD_F3  VBsumWD_F4  VBWL_F1  VBWL_F2  ...  CHWL_F3  CHWL_F4  PHnum_F1  \\\n",
      "0    63120.32    64200.67  5615.81  2110.64  ...  2110.64  5615.81       861   \n",
      "\n",
      "   PHnum_F2  PHnum_F3  PHnum_F4  PHsum_F1  PHsum_F2  PHsum_F3  PHsum_F4  \n",
      "0       446       375       538  41572.07  17148.95  14209.13  21144.09  \n",
      "\n",
      "[1 rows x 32 columns]\n"
     ]
    }
   ],
   "source": [
    "data  = pd.read_csv(r'C:\\Users\\user\\Tool_Life_Classification_Model\\‪TC_4_JSK_D12_190630_Batch1_B16.csv')\n",
    "data2 = pd.read_csv(r'C:\\Users\\user\\Tool_Life_Classification_Model\\‪TC_4_JSK_D12_190630_Batch1_RR10.csv')\n",
    "data3 = pd.read_csv(r'C:\\Users\\user\\Tool_Life_Classification_Model\\‪TC_4_JSK_D12_190630_Batch1_PP14.csv')\n",
    "print(data3)"
   ]
  },
  {
   "cell_type": "code",
   "execution_count": 77,
   "metadata": {},
   "outputs": [
    {
     "name": "stdout",
     "output_type": "stream",
     "text": [
      "[0]\n",
      "[0]\n",
      "[0]\n",
      "[0]\n",
      "[0]\n",
      "[0]\n"
     ]
    }
   ],
   "source": [
    "y_pred = Model_DT.predict(data)\n",
    "print(y_pred)\n",
    "y_pred = Model_LRM.predict(data)\n",
    "print(y_pred)\n",
    "y_pred = Model_Line.predict(data)\n",
    "print(y_pred)\n",
    "y_pred = Model_Poly.predict(data)\n",
    "print(y_pred)\n",
    "y_pred = Model_Sig.predict(data)\n",
    "print(y_pred)\n",
    "y_pred = Model_RBF.predict(data)\n",
    "print(y_pred)\n",
    "# [0]為報廢刀刀具編碼 B，[1]為粗加工刀刀具編碼 R，[2]為精加工刀編碼 P"
   ]
  },
  {
   "cell_type": "code",
   "execution_count": 78,
   "metadata": {},
   "outputs": [
    {
     "name": "stdout",
     "output_type": "stream",
     "text": [
      "[1]\n",
      "[0]\n",
      "[1]\n",
      "[0]\n",
      "[1]\n",
      "[1]\n"
     ]
    }
   ],
   "source": [
    "y_pred = Model_DT.predict(data2)\n",
    "print(y_pred)\n",
    "y_pred = Model_LRM.predict(data2)\n",
    "print(y_pred)\n",
    "y_pred = Model_Line.predict(data2)\n",
    "print(y_pred)\n",
    "y_pred = Model_Poly.predict(data2)\n",
    "print(y_pred)\n",
    "y_pred = Model_Sig.predict(data2)\n",
    "print(y_pred)\n",
    "y_pred = Model_RBF.predict(data2)\n",
    "print(y_pred)\n",
    "# [0]為報廢刀刀具編碼 B，[1]為粗加工刀刀具編碼 R，[2]為精加工刀編碼 P"
   ]
  },
  {
   "cell_type": "code",
   "execution_count": 79,
   "metadata": {},
   "outputs": [
    {
     "name": "stdout",
     "output_type": "stream",
     "text": [
      "[1]\n",
      "[0]\n",
      "[2]\n",
      "[0]\n",
      "[0]\n",
      "[2]\n"
     ]
    }
   ],
   "source": [
    "y_pred = Model_DT.predict(data3)\n",
    "print(y_pred)\n",
    "y_pred = Model_LRM.predict(data3)\n",
    "print(y_pred)\n",
    "y_pred = Model_Line.predict(data3)\n",
    "print(y_pred)\n",
    "y_pred = Model_Poly.predict(data3)\n",
    "print(y_pred)\n",
    "y_pred = Model_Sig.predict(data3)\n",
    "print(y_pred)\n",
    "y_pred = Model_RBF.predict(data3)\n",
    "print(y_pred)\n",
    "# [0]為報廢刀刀具編碼 B，[1]為粗加工刀刀具編碼 R，[2]為精加工刀編碼 P"
   ]
  },
  {
   "cell_type": "code",
   "execution_count": 55,
   "metadata": {},
   "outputs": [
    {
     "name": "stdout",
     "output_type": "stream",
     "text": [
      "[0]\n"
     ]
    }
   ],
   "source": [
    "y_pred = Model_DT.predict(data)\n",
    "print(y_pred)\n",
    "# [0]為報廢刀刀具編碼 B，[1]為粗加工刀刀具編碼 R，[2]為精加工刀編碼 P"
   ]
  },
  {
   "cell_type": "code",
   "execution_count": 63,
   "metadata": {},
   "outputs": [
    {
     "name": "stdout",
     "output_type": "stream",
     "text": [
      "[0]\n"
     ]
    }
   ],
   "source": [
    "y_pred = Model_LRM.predict(data)\n",
    "print(y_pred)\n",
    "# [0]為報廢刀刀具編碼 B，[1]為粗加工刀刀具編碼 R，[2]為精加工刀編碼 P"
   ]
  },
  {
   "cell_type": "code",
   "execution_count": 64,
   "metadata": {},
   "outputs": [
    {
     "name": "stdout",
     "output_type": "stream",
     "text": [
      "[0]\n"
     ]
    }
   ],
   "source": [
    "y_pred = Model_Line.predict(data)\n",
    "print(y_pred)\n",
    "# [0]為報廢刀刀具編碼 B，[1]為粗加工刀刀具編碼 R，[2]為精加工刀編碼 P"
   ]
  },
  {
   "cell_type": "code",
   "execution_count": 65,
   "metadata": {},
   "outputs": [
    {
     "name": "stdout",
     "output_type": "stream",
     "text": [
      "[0]\n"
     ]
    }
   ],
   "source": [
    "y_pred = Model_Poly.predict(data)\n",
    "print(y_pred)\n",
    "# [0]為報廢刀刀具編碼 B，[1]為粗加工刀刀具編碼 R，[2]為精加工刀編碼 P"
   ]
  },
  {
   "cell_type": "code",
   "execution_count": 66,
   "metadata": {},
   "outputs": [
    {
     "name": "stdout",
     "output_type": "stream",
     "text": [
      "[0]\n"
     ]
    }
   ],
   "source": [
    "y_pred = Model_Sig.predict(data)\n",
    "print(y_pred)\n",
    "# [0]為報廢刀刀具編碼 B，[1]為粗加工刀刀具編碼 R，[2]為精加工刀編碼 P"
   ]
  },
  {
   "cell_type": "code",
   "execution_count": 67,
   "metadata": {},
   "outputs": [
    {
     "name": "stdout",
     "output_type": "stream",
     "text": [
      "[0]\n"
     ]
    }
   ],
   "source": [
    "y_pred = Model_RBF.predict(data)\n",
    "print(y_pred)\n",
    "# [0]為報廢刀刀具編碼 B，[1]為粗加工刀刀具編碼 R，[2]為精加工刀編碼 P"
   ]
  },
  {
   "cell_type": "code",
   "execution_count": 81,
   "metadata": {},
   "outputs": [
    {
     "name": "stdout",
     "output_type": "stream",
     "text": [
      "[0]\n"
     ]
    }
   ],
   "source": [
    "y_pred = Model_Mjv.predict(data)\n",
    "print(y_pred)\n",
    "# [0]為報廢刀刀具編碼 B，[1]為粗加工刀刀具編碼 R，[2]為精加工刀編碼 P"
   ]
  },
  {
   "cell_type": "code",
   "execution_count": 83,
   "metadata": {},
   "outputs": [
    {
     "name": "stdout",
     "output_type": "stream",
     "text": [
      "[0]\n"
     ]
    }
   ],
   "source": [
    "y_pred = Model_rMjv.predict(data)\n",
    "print(y_pred)\n",
    "# [0]為報廢刀刀具編碼 B，[1]為粗加工刀刀具編碼 R，[2]為精加工刀編碼 P"
   ]
  },
  {
   "cell_type": "code",
   "execution_count": 113,
   "metadata": {},
   "outputs": [
    {
     "name": "stdout",
     "output_type": "stream",
     "text": [
      "[0]\n"
     ]
    }
   ],
   "source": [
    "y_pred = Model_Adb.predict(data)\n",
    "print(y_pred)\n",
    "# [0]為報廢刀刀具編碼 B，[1]為粗加工刀刀具編碼 R，[2]為精加工刀編碼 P"
   ]
  },
  {
   "cell_type": "code",
   "execution_count": null,
   "metadata": {},
   "outputs": [],
   "source": []
  }
 ],
 "metadata": {
  "kernelspec": {
   "display_name": "Python 3",
   "language": "python",
   "name": "python3"
  },
  "language_info": {
   "codemirror_mode": {
    "name": "ipython",
    "version": 3
   },
   "file_extension": ".py",
   "mimetype": "text/x-python",
   "name": "python",
   "nbconvert_exporter": "python",
   "pygments_lexer": "ipython3",
   "version": "3.8.3"
  }
 },
 "nbformat": 4,
 "nbformat_minor": 4
}
